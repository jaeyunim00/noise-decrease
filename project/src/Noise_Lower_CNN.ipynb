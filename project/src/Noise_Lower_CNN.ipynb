{
 "cells": [
  {
   "cell_type": "markdown",
   "metadata": {},
   "source": [
    "# GPU 설정"
   ]
  },
  {
   "cell_type": "code",
   "execution_count": 1,
   "metadata": {},
   "outputs": [],
   "source": [
    "import torch\n",
    "\n",
    "device = torch.device('mps:0' if torch.backends.mps.is_available() else 'cpu')"
   ]
  },
  {
   "cell_type": "code",
   "execution_count": 2,
   "metadata": {},
   "outputs": [
    {
     "name": "stdout",
     "output_type": "stream",
     "text": [
      "PyTorch version:2.4.0\n",
      "MPS 장치를 지원하도록 build 되었는지: True\n",
      "MPS 장치가 사용 가능한지: True\n",
      "macOS-14.6.1-arm64-arm-64bit\n"
     ]
    }
   ],
   "source": [
    "print (f\"PyTorch version:{torch.__version__}\")\n",
    "print(f\"MPS 장치를 지원하도록 build 되었는지: {torch.backends.mps.is_built()}\")\n",
    "print(f\"MPS 장치가 사용 가능한지: {torch.backends.mps.is_available()}\")\n",
    "!python -c 'import platform;print(platform.platform())'"
   ]
  },
  {
   "cell_type": "markdown",
   "metadata": {},
   "source": [
    "# 선언"
   ]
  },
  {
   "cell_type": "code",
   "execution_count": 4,
   "metadata": {},
   "outputs": [],
   "source": [
    "import torch\n",
    "import torch.nn as nn\n",
    "import torch.optim as optim\n",
    "import torch.nn.functional as F\n",
    "from torch.utils.data import DataLoader, TensorDataset\n",
    "\n",
    "import matplotlib as plt\n",
    "import numpy as np\n",
    "import pandas as pd\n",
    "\n",
    "# import Data_Precleaning"
   ]
  },
  {
   "cell_type": "markdown",
   "metadata": {},
   "source": [
    "# 데이터 확인"
   ]
  },
  {
   "cell_type": "code",
   "execution_count": null,
   "metadata": {},
   "outputs": [],
   "source": [
    "def plot_history(history):\n",
    "    plt.plot(history.history['accuracy'])\n",
    "    plt.plot(history.history['val_accuracy'])\n",
    "    plt.title('Model accuracy')\n",
    "    plt.xlabel('Epoch')\n",
    "    plt.ylabel('Accuracy')\n",
    "    plt.legend(['Train', 'Test'], loc='upper left')\n",
    "    plt.show()\n",
    "\n",
    "    plt.plot(history.history['loss'])\n",
    "    plt.plot(history.history['val_loss'])\n",
    "    plt.title('Model loss')\n",
    "    plt.xlabel('Epoch')\n",
    "    plt.ylabel('Loss')\n",
    "    plt.legend(['Train', 'Test'], loc='upper left')\n",
    "    plt.show()"
   ]
  },
  {
   "cell_type": "markdown",
   "metadata": {},
   "source": [
    "# 모델 정의"
   ]
  },
  {
   "cell_type": "code",
   "execution_count": null,
   "metadata": {},
   "outputs": [],
   "source": [
    "class NoiseCNN(nn.Module):\n",
    "    def __init__(self, input_dim, n_classes):\n",
    "        super(NoiseCNN, self).__init__()\n",
    "        self.cnn_model(input_dim, n_classes)\n",
    "        self.criterion = nn.CrossEntropyLoss()\n",
    "\n",
    "    def cnn_model(self, input_dim, n_classes):\n",
    "        self.conv1 = nn.Conv2d(1, 32, kernel_size = (4, 10), padding = (1, 4))\n",
    "        self.bn1 = nn.BatchNorm2d(32)\n",
    "        self.conv2 = nn.Conv2d(32, 32, kernel_size = (4, 10), padding = (1, 4))\n",
    "        self.bn2 = nn.BatchNorm2d(32)\n",
    "        self.conv3 = nn.Conv2d(32, 32, kernel_size = (4, 10), padding = (1, 4))\n",
    "        self.bn3 = nn.BatchNorm2d(32)\n",
    "        self.conv4 = nn.Conv2d(32, 32, kernel_size = (4, 10), padding = (1, 4))\n",
    "        self.bn4 = nn.BatchNorm2d(32)\n",
    "        self.pool = nn.MaxPool2d(kernel_size = 2, stride = 2)\n",
    "        self.flatten = nn.Flatten()\n",
    "\n",
    "        output_size = (input_dim[0] // 16) * (input_dim[1] // 16) * 32\n",
    "        \n",
    "        self.fc1 = nn.Linear(output_size, 64)\n",
    "        self.bn_fc1 = nn.BatchNorm1d(64)\n",
    "        self.fc2 = nn.Linear(64, n_classes)\n",
    "\n",
    "    def forward(self, x):\n",
    "        x = self.pool(F.relu(self.bn1(self.conv1(x))))\n",
    "        x = self.pool(F.relu(self.bn2(self.conv2(x))))\n",
    "        x = self.pool(F.relu(self.bn3(self.conv3(x))))\n",
    "        x = self.pool(F.relu(self.bn4(self.conv4(x))))\n",
    "        x = self.flatten(x)\n",
    "        x = F.relu(self.bn_fc1(self.fc1(x)))\n",
    "        x = self.fc2(x)\n",
    "        return x\n",
    "    \n",
    "    def backward(self, dataloader, optimizer):\n",
    "        self.train()\n",
    "        running_loss = 0.0\n",
    "        for i, (inputs, targets) in enumerate(dataloader):\n",
    "            optimizer.zero_grad()\n",
    "            outputs = self(inputs)\n",
    "            loss = self.criterion(outputs, targets)\n",
    "            loss.backward()\n",
    "            optimizer.step()\n",
    "\n",
    "            running_loss += loss.item()\n",
    "            if i % 10 == 9:\n",
    "                print(f\"Batch {i + 1}, Loss : {running_loss / 10:.4f}\")\n",
    "                running_loss = 0.0\n",
    "    \n",
    "    def fit(self, dataloader, epochs, learning_rate):\n",
    "        optimizer = optim.Adam(self.parameters(), lr = learning_rate)\n",
    "        for epoch in range(epochs):\n",
    "            print(f\"Epoch {epoch + 1}/{epochs}\")\n",
    "            self.backward(dataloader, optimizer)\n",
    "            print(\"\")\n",
    "\n",
    "    def test_eval(self, dataloader):\n",
    "        self.eval()\n",
    "        total_loss = 0.0\n",
    "        correct = 0\n",
    "        total = 0\n",
    "\n",
    "        all_preds = []\n",
    "        all_targets = []\n",
    "\n",
    "        with torch.no_grad():\n",
    "            for inputs, targets in dataloader:\n",
    "                outputs = self(inputs)\n",
    "                loss = self.criterion(outputs, targets)\n",
    "                total_loss += loss.item()\n",
    "\n",
    "                _, predicted = torch.max(outputs, 1)\n",
    "                total += targets.size(0)\n",
    "                correct += (predicted == targets).sum().item()\n",
    "\n",
    "                all_preds.extend(predicted.cpu().numpy())\n",
    "                all_targets.extend(targets.cpu().numpy())\n",
    "        \n",
    "        accuracy = correct / total\n",
    "        avg_loss = total_loss / len(dataloader)\n",
    "\n",
    "        print(f\"Test Loss : {avg_loss:.4f}, Accuracy : {accuracy * 100:.2f}%\")\n",
    "        \n",
    "        return avg_loss, accuracy, all_targets, all_preds"
   ]
  },
  {
   "cell_type": "markdown",
   "metadata": {},
   "source": [
    "# 파라미터 정의"
   ]
  },
  {
   "cell_type": "code",
   "execution_count": null,
   "metadata": {},
   "outputs": [],
   "source": [
    "val = {\n",
    "    'input_dim' : (128, 128),\n",
    "    'n_classes' : 10,\n",
    "    'learning_rate' : 0.01,\n",
    "    'epochs' : 100,\n",
    "    'batch_size' : 16\n",
    "}"
   ]
  },
  {
   "cell_type": "markdown",
   "metadata": {},
   "source": [
    "# 데이터 학습"
   ]
  },
  {
   "cell_type": "markdown",
   "metadata": {},
   "source": [
    "## 모델 인스턴스 생성"
   ]
  },
  {
   "cell_type": "code",
   "execution_count": null,
   "metadata": {},
   "outputs": [],
   "source": [
    "model = NoiseCNN(val['input_dim'], val['n_classes'])"
   ]
  },
  {
   "cell_type": "code",
   "execution_count": null,
   "metadata": {},
   "outputs": [],
   "source": [
    "model.summary()"
   ]
  },
  {
   "cell_type": "markdown",
   "metadata": {},
   "source": [
    "## 데이터 불러오기"
   ]
  },
  {
   "cell_type": "code",
   "execution_count": null,
   "metadata": {},
   "outputs": [],
   "source": [
    "dataset = \n",
    "# dataloader = DataLoader(dataset, val['batch_size'], suffle = True)"
   ]
  },
  {
   "cell_type": "markdown",
   "metadata": {},
   "source": [
    "# 학습"
   ]
  },
  {
   "cell_type": "code",
   "execution_count": null,
   "metadata": {},
   "outputs": [],
   "source": [
    "history = model.fit(dataloader, val['epochs'], val['learning_rate'])"
   ]
  },
  {
   "cell_type": "markdown",
   "metadata": {},
   "source": [
    "# 결과 확인"
   ]
  },
  {
   "cell_type": "code",
   "execution_count": null,
   "metadata": {},
   "outputs": [],
   "source": [
    "plot_history(history)"
   ]
  },
  {
   "cell_type": "markdown",
   "metadata": {},
   "source": [
    "# 테스트"
   ]
  },
  {
   "cell_type": "code",
   "execution_count": null,
   "metadata": {},
   "outputs": [],
   "source": [
    "test_dataset = \n",
    "# test_dataloader = DataLoader(test_dataset, val['batch_size'], shuffle = False)"
   ]
  },
  {
   "cell_type": "code",
   "execution_count": null,
   "metadata": {},
   "outputs": [],
   "source": [
    "test_history = model.test_eval(test_dataloader)"
   ]
  },
  {
   "cell_type": "markdown",
   "metadata": {},
   "source": [
    "# 비교 분석"
   ]
  },
  {
   "cell_type": "code",
   "execution_count": null,
   "metadata": {},
   "outputs": [],
   "source": [
    "import seaborn as sns\n",
    "from sklearn.metrics import confusion_matrix, classification_report"
   ]
  },
  {
   "cell_type": "code",
   "execution_count": null,
   "metadata": {},
   "outputs": [],
   "source": [
    "def loss_accuracy(avg_loss, accuracy):\n",
    "    \"\"\"손실과 정확도 그래프\"\"\"\n",
    "    plt.figure(figsize=(12, 5))\n",
    "    \n",
    "    # 손실\n",
    "    plt.subplot(1, 2, 1)\n",
    "    plt.bar(['Test Loss'], [avg_loss], color='blue')\n",
    "    plt.title('Test Loss')\n",
    "    plt.ylabel('Loss')\n",
    "\n",
    "    # 정확도\n",
    "    plt.subplot(1, 2, 2)\n",
    "    plt.bar(['Test Accuracy'], [accuracy], color='green')\n",
    "    plt.title('Test Accuracy')\n",
    "    plt.ylabel('Accuracy')\n",
    "    \n",
    "    plt.show()\n",
    "\n",
    "def confusion_matrix_and_classification_report(targets, preds):\n",
    "    \"\"\"혼동 행렬 및 분류 보고서\"\"\"\n",
    "    cm = confusion_matrix(targets, preds)\n",
    "    plt.figure(figsize=(10, 8))\n",
    "    sns.heatmap(cm, annot=True, fmt=\"d\", cmap=\"Blues\")\n",
    "    plt.xlabel('Predicted Label')\n",
    "    plt.ylabel('True Label')\n",
    "    plt.title('Confusion Matrix')\n",
    "    plt.show()\n",
    "    \n",
    "    print(\"Classification Report:\")\n",
    "    print(classification_report(targets, preds))\n",
    "\n",
    "def model_performance(avg_loss, accuracy, targets, preds):\n",
    "    \"\"\"모델 성능 평가\"\"\"\n",
    "    loss_accuracy(avg_loss, accuracy)\n",
    "    confusion_matrix_and_classification_report(targets, preds)"
   ]
  },
  {
   "cell_type": "code",
   "execution_count": null,
   "metadata": {},
   "outputs": [],
   "source": [
    "avg_loss, accuracy, targets, preds = model.test_eval(test_dataloader)\n",
    "\n",
    "model_performance(avg_loss, accuracy, targets, preds)"
   ]
  }
 ],
 "metadata": {
  "kernelspec": {
   "display_name": "AITECH",
   "language": "python",
   "name": "python3"
  },
  "language_info": {
   "codemirror_mode": {
    "name": "ipython",
    "version": 3
   },
   "file_extension": ".py",
   "mimetype": "text/x-python",
   "name": "python",
   "nbconvert_exporter": "python",
   "pygments_lexer": "ipython3",
   "version": "3.10.14"
  }
 },
 "nbformat": 4,
 "nbformat_minor": 2
}
