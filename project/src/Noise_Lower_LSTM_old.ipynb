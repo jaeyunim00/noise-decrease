{
 "cells": [
  {
   "cell_type": "markdown",
   "metadata": {},
   "source": [
    "# 선언"
   ]
  },
  {
   "cell_type": "code",
   "execution_count": null,
   "metadata": {},
   "outputs": [],
   "source": [
    "import torch\n",
    "import torch.nn as nn\n",
    "import torch.optim as optim\n",
    "import torchaudio\n",
    "\n",
    "from torch.utils.data import DataLoader, Dataset, ConcatDataset\n",
    "\n",
    "import numpy as np\n",
    "import matplotlib.pyplot as plt\n",
    "\n",
    "import os"
   ]
  },
  {
   "cell_type": "markdown",
   "metadata": {},
   "source": [
    "# 데이터 전처리"
   ]
  },
  {
   "cell_type": "markdown",
   "metadata": {},
   "source": [
    "1. 소음 구간 태깅\n",
    "\n",
    "2. 데이터 분할"
   ]
  },
  {
   "cell_type": "code",
   "execution_count": null,
   "metadata": {},
   "outputs": [],
   "source": [
    "class NoiseDataset(Dataset):\n",
    "    def __init__(self, audio_file, sample_rate=16000, frame_size=1024, threshold=0.05):\n",
    "        waveform, orig_sample_rate = torchaudio.load(audio_file)\n",
    "        self.waveform = torchaudio.transforms.Resample(orig_freq=orig_sample_rate, new_freq=sample_rate)(waveform)\n",
    "        self.sample_rate = sample_rate\n",
    "        self.frame_size = frame_size\n",
    "        self.threshold = threshold\n",
    "        self.noise_indices = self._detect_noise(self.waveform)\n",
    "        \n",
    "    def _detect_noise(self, waveform):\n",
    "        noise_indices = []\n",
    "        energy = waveform.pow(2).mean(dim=0)\n",
    "        for i in range(0, waveform.size(1) - self.frame_size, self.frame_size):\n",
    "            frame_energy = energy[i:i+self.frame_size].mean().item()\n",
    "            if frame_energy > self.threshold:\n",
    "                noise_indices.append(i)\n",
    "        return noise_indices\n",
    "\n",
    "    def __len__(self):\n",
    "        return len(self.noise_indices)\n",
    "    \n",
    "    def __getitem__(self, idx):\n",
    "        start_idx = self.noise_indices[idx]\n",
    "        end_idx = start_idx + self.frame_size\n",
    "        noisy_segment = self.waveform[:, start_idx:end_idx]\n",
    "        return noisy_segment, noisy_segment\n"
   ]
  },
  {
   "cell_type": "markdown",
   "metadata": {},
   "source": [
    "# LSTM 모델"
   ]
  },
  {
   "cell_type": "code",
   "execution_count": null,
   "metadata": {},
   "outputs": [],
   "source": [
    "class AntiNoiseLSTM(nn.Module):\n",
    "    def __init__(self, input_size, hidden_size, num_layers, output_size):\n",
    "        super(AntiNoiseLSTM, self).__init__()\n",
    "        self.lstm = nn.LSTM(input_size, hidden_size, num_layers, batch_first=True)\n",
    "        self.fc = nn.Linear(hidden_size, output_size)\n",
    "    \n",
    "    def forward(self, x):\n",
    "        out, _ = self.lstm(x)\n",
    "        out = self.fc(out)\n",
    "        return out"
   ]
  },
  {
   "cell_type": "markdown",
   "metadata": {},
   "source": [
    "# 학습 및 평가"
   ]
  },
  {
   "cell_type": "code",
   "execution_count": null,
   "metadata": {},
   "outputs": [],
   "source": [
    "def train_model(dataloader, model, criterion, optimizer, num_epochs = 10, validation_loader=None):\n",
    "    train_losses = []\n",
    "    val_losses = []\n",
    "\n",
    "    for epoch in range(num_epochs):\n",
    "        model.train() \n",
    "        running_loss = 0.0\n",
    "        \n",
    "        for i, (inputs, targets) in enumerate(dataloader):\n",
    "            inputs = inputs.unsqueeze(-1).float()\n",
    "            targets = targets.unsqueeze(-1).float()\n",
    "\n",
    "            outputs = model(inputs)\n",
    "            loss = criterion(outputs, targets)\n",
    "\n",
    "            optimizer.zero_grad()\n",
    "            loss.backward()\n",
    "            optimizer.step()\n",
    "\n",
    "            running_loss += loss.item()\n",
    "\n",
    "            if (i + 1) % 10 == 0:\n",
    "                print(f'Epoch [{epoch+1}/{num_epochs}], Step [{i+1}/{len(dataloader)}], Loss: {loss.item():.4f}')\n",
    "        \n",
    "        \n",
    "        epoch_loss = running_loss / len(dataloader)\n",
    "        train_losses.append(epoch_loss)\n",
    "\n",
    "        if validation_loader is not None:\n",
    "            val_loss = evaluate_model(validation_loader, model, criterion)\n",
    "            val_losses.append(val_loss)\n",
    "            print(f'Epoch [{epoch+1}/{num_epochs}], Train Loss: {epoch_loss:.4f}, Validation Loss: {val_loss:.4f}')\n",
    "        else:\n",
    "            print(f'Epoch [{epoch+1}/{num_epochs}], Train Loss: {epoch_loss:.4f}')\n",
    "    \n",
    "    return train_losses, val_losses\n",
    "\n",
    "def evaluate_model(dataloader, model, criterion):\n",
    "    model.eval()\n",
    "    total_loss = 0\n",
    "    with torch.no_grad():\n",
    "        for inputs, targets in dataloader:\n",
    "            inputs = inputs.unsqueeze(-1).float()\n",
    "            targets = targets.unsqueeze(-1).float()\n",
    "\n",
    "            outputs = model(inputs)\n",
    "            loss = criterion(outputs, targets)\n",
    "            total_loss += loss.item()\n",
    "    \n",
    "    return total_loss / len(dataloader)"
   ]
  },
  {
   "cell_type": "markdown",
   "metadata": {},
   "source": [
    "# 파라미터 선언"
   ]
  },
  {
   "cell_type": "code",
   "execution_count": null,
   "metadata": {},
   "outputs": [],
   "source": [
    "val = {\n",
    "    'input_size' : 1,\n",
    "    'hidden_size' : 128,\n",
    "    'num_layers' : 2,\n",
    "    'output_size' : 1,\n",
    "    'learning_rate' : 0.001\n",
    "}"
   ]
  },
  {
   "cell_type": "markdown",
   "metadata": {},
   "source": [
    "# 데이터 불러오기"
   ]
  },
  {
   "cell_type": "code",
   "execution_count": null,
   "metadata": {},
   "outputs": [],
   "source": [
    "def load_datasets_from_folder(folder_path, sample_rate=16000, frame_size=1024, threshold=0.05):\n",
    "    datasets = []\n",
    "    for file_name in os.listdir(folder_path):\n",
    "        if file_name.endswith(\".wav\"):\n",
    "            audio_file_path = os.path.join(folder_path, file_name)\n",
    "            dataset = NoiseDataset(audio_file_path, sample_rate, frame_size, threshold)\n",
    "            datasets.append(dataset)\n",
    "    combined_dataset = ConcatDataset(datasets)\n",
    "    return combined_dataset\n",
    "\n",
    "folder_path = 'your_folder_path'\n",
    "combined_dataset = load_datasets_from_folder(folder_path)\n",
    "\n",
    "dataloader = DataLoader(combined_dataset, batch_size = 64, shuffle=True)"
   ]
  },
  {
   "cell_type": "markdown",
   "metadata": {},
   "source": [
    "# 모델, 손실 함수, 옵티마이저 초기화"
   ]
  },
  {
   "cell_type": "code",
   "execution_count": null,
   "metadata": {},
   "outputs": [],
   "source": [
    "anti_noise_model = AntiNoiseLSTM(val['input_size'], val['hidden_size'], val['num_layers'], val['output_size'])\n",
    "criterion = nn.MSELoss()\n",
    "optimizer = optim.Adam(anti_noise_model.parameters(), lr = val['learning_rate'])"
   ]
  },
  {
   "cell_type": "markdown",
   "metadata": {},
   "source": [
    "# 학습"
   ]
  },
  {
   "cell_type": "code",
   "execution_count": null,
   "metadata": {},
   "outputs": [],
   "source": [
    "train_model(dataloader, anti_noise_model, criterion, optimizer)"
   ]
  },
  {
   "cell_type": "markdown",
   "metadata": {},
   "source": [
    "# 테스트"
   ]
  },
  {
   "cell_type": "code",
   "execution_count": null,
   "metadata": {},
   "outputs": [],
   "source": [
    "def generate_and_plot_anti_noise(model, test_audio_file, sample_rate=16000, frame_size=1024):\n",
    "    waveform, orig_sample_rate = torchaudio.load(test_audio_file)\n",
    "    waveform = torchaudio.transforms.Resample(orig_freq=orig_sample_rate, new_freq=sample_rate)(waveform)\n",
    "    \n",
    "    model.eval()\n",
    "    predicted_waveform = []\n",
    "\n",
    "    with torch.no_grad():\n",
    "        for i in range(0, waveform.size(1) - frame_size, frame_size):\n",
    "            segment = waveform[:, i:i+frame_size]\n",
    "            input_tensor = segment.unsqueeze(-1).float()\n",
    "            predicted_anti_noise = model(input_tensor).squeeze(-1)\n",
    "            predicted_waveform.append(predicted_anti_noise.squeeze().numpy())\n",
    "    \n",
    "    predicted_waveform = np.concatenate(predicted_waveform, axis=-1)\n",
    "    \n",
    "    plt.figure(figsize=(14, 6))\n",
    "    plt.plot(waveform.squeeze().numpy(), label='Original Noise')\n",
    "    plt.plot(predicted_waveform, label='Predicted Anti-Noise', color='orange', alpha=0.7)\n",
    "    plt.title('Original Noise vs Predicted Anti-Noise')\n",
    "    plt.legend()\n",
    "    plt.show()\n"
   ]
  },
  {
   "cell_type": "markdown",
   "metadata": {},
   "source": [
    "# 테스트 실행"
   ]
  },
  {
   "cell_type": "code",
   "execution_count": null,
   "metadata": {},
   "outputs": [],
   "source": [
    "test_audio_file = 'path'\n",
    "\n",
    "generate_and_plot_anti_noise(anti_noise_model, test_audio_file)"
   ]
  }
 ],
 "metadata": {
  "kernelspec": {
   "display_name": "AITECH",
   "language": "python",
   "name": "python3"
  },
  "language_info": {
   "codemirror_mode": {
    "name": "ipython",
    "version": 3
   },
   "file_extension": ".py",
   "mimetype": "text/x-python",
   "name": "python",
   "nbconvert_exporter": "python",
   "pygments_lexer": "ipython3",
   "version": "3.10.14"
  }
 },
 "nbformat": 4,
 "nbformat_minor": 2
}
